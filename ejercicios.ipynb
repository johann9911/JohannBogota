{
 "cells": [
  {
   "cell_type": "markdown",
   "metadata": {},
   "source": [
    "# EJERCICIOS DEL LIBRO\n",
    "\n",
    "\n",
    "De acuerdo al libro Qsdfsf se realizaran estos ejercicios de programación con el lenguaje python.\n",
    "\n",
    "1.1 Programa que sume dos numero complejos. funcion suma_C\n",
    "2.2\n",
    "\n",
    "\n",
    "\n"
   ]
  },
  {
   "cell_type": "markdown",
   "metadata": {},
   "source": [
    "### 1.1 SUMA DE COMPLEJOS"
   ]
  },
  {
   "cell_type": "markdown",
   "metadata": {},
   "source": [
    "Se define los dos numeros complejos en sus respectivos vectores, determinando que la posicion 0 sea la parte real y la posicion 1 la parte imaginaria. Y por definicion se sabe que la suma de complejos es la suma de las partes reales y las partes imaginarias.\n",
    "Para mostrar el programa que realice la suma de complejos se toma como ejemplo los numeros 3 + 5i y 2i."
   ]
  },
  {
   "cell_type": "code",
   "execution_count": 3,
   "metadata": {},
   "outputs": [],
   "source": [
    "def suma_C(Cm1,Cm2):\n",
    "    sum_com = [(Cm1[0]+Cm2[0]),(Cm1[1]+Cm2[1])]\n",
    "    real = Cm1[0]+Cm2[0]\n",
    "    img = Cm1[1]+Cm2[1]\n",
    "    print(\"----------SUMA DE DOS NÚMEROS-------\")\n",
    "    #Numero 1\n",
    "    if Cm1[0]==0:\n",
    "        print(\"Numero complejo 1:\",str(Cm1[1])+\"i\")\n",
    "    elif Cm1[1]==0:\n",
    "        print(\"Numero complejo 1:\",Cm1[0])\n",
    "    elif Cm1[1]<0:\n",
    "        print(\"Numero complejo 1:\",Cm1[0],str(Cm1[1])+\"i\")\n",
    "    else:\n",
    "        print(\"Numero complejo 1:\",Cm1[0],\"+\"+str(Cm1[1])+\"i\")\n",
    "\n",
    "    #Numero 2\n",
    "    if Cm2[0]==0:\n",
    "        print(\"Numero complejo 2:\",str(Cm2[1])+\"i\")\n",
    "    elif Cm2[1]==0:\n",
    "        print(\"Numero complejo 2:\",Cm2[0])\n",
    "    elif Cm2[1]<0:\n",
    "        print(\"Numero complejo 2:\",Cm2[0],str(Cm2[1])+\"i\")\n",
    "    else:\n",
    "        print(\"Numero complejo 2:\",Cm2[0],\"+\"+str(Cm2[1])+\"i\")\n",
    "    \n",
    "        \n",
    "    #suma de numeros complejos\n",
    "    if sum_com[0]==0:\n",
    "        print(\"El resultado es:\",str(sum_com[1])+\"i\")\n",
    "    elif sum_com[1]==0:\n",
    "        print(\"El resultado es:\",sum_com[0])\n",
    "    elif sum_com[1]<0:\n",
    "        print(\"El resultado es:\",sum_com[0],str(sum_com[1])+\"i\")\n",
    "    else:\n",
    "        print(\"El resultado es:\",sum_com[0],\"+\"+str(sum_com[1])+\"i\")\n",
    "    \n",
    "     #Si alguna otra función necesita multiplicar dos numeros se devuelve el resultado\n",
    "    return sum_com"
   ]
  },
  {
   "cell_type": "code",
   "execution_count": 4,
   "metadata": {},
   "outputs": [
    {
     "name": "stdout",
     "output_type": "stream",
     "text": [
      "Numero complejo 1: 3 +5i\n",
      "Numero complejo 2: 2i\n",
      "La suma es: 3 +7i\n"
     ]
    }
   ],
   "source": [
    "suma_C([3,5],[0,2])"
   ]
  },
  {
   "cell_type": "markdown",
   "metadata": {},
   "source": [
    "### 1.2 Multiplicación"
   ]
  },
  {
   "cell_type": "code",
   "execution_count": 24,
   "metadata": {},
   "outputs": [],
   "source": [
    "def Mul_C(C1,C2):\n",
    "    Real = (C1[0]*C2[0])-(C1[1]*C2[1])\n",
    "    imag = (C1[0]*C2[1])+(C2[0]*C1[1])\n",
    "    Resul = [Real,imag]\n",
    "    print(\"----------MULTIPLICACIÓN DE DOS NÚMEROS-------\")\n",
    "    #Numero 1\n",
    "    if C1[0]==0:\n",
    "        print(\"Numero complejo 1:\",str(C1[1])+\"i\")\n",
    "    elif C1[1]==0:\n",
    "        print(\"Numero complejo 1:\",C1[0])\n",
    "    elif C1[1]<0:\n",
    "        print(\"Numero complejo 1:\",C1[0],str(C1[1])+\"i\")\n",
    "    else:\n",
    "        print(\"Numero complejo 1:\",C1[0],\"+\"+str(C1[1])+\"i\")\n",
    "\n",
    "    #Numero 2\n",
    "    if C2[0]==0:\n",
    "        print(\"Numero complejo 2:\",str(C2[1])+\"i\")\n",
    "    elif C2[1]==0:\n",
    "        print(\"Numero complejo 2:\",C2[0])\n",
    "    elif C2[1]<0:\n",
    "        print(\"Numero complejo 2:\",C2[0],str(C2[1])+\"i\")\n",
    "    else:\n",
    "        print(\"Numero complejo 2:\",C2[0],\"+\"+str(C2[1])+\"i\")\n",
    "    \n",
    "        \n",
    "    #Multiplicación de numeros complejos\n",
    "    if Resul[0]==0:\n",
    "        print(\"El resultado es:\",str(Resul[1])+\"i\")\n",
    "    elif Resul[1]==0:\n",
    "        print(\"El resultado:\",Resul[0])\n",
    "    elif Resul[1]<0:\n",
    "        print(\"El resultado:\",Resul[0],str(Resul[1])+\"i\")\n",
    "    else:\n",
    "        print(\"El resultado:\",Resul[0],\"+\"+str(Resul[1])+\"i\")\n",
    "    \n",
    "    #Si alguna otra función necesita multiplicar dos numeros se devuelve el resultado\n",
    "    return Resul"
   ]
  },
  {
   "cell_type": "code",
   "execution_count": 25,
   "metadata": {},
   "outputs": [
    {
     "name": "stdout",
     "output_type": "stream",
     "text": [
      "Numero complejo 1: -5 +4i\n",
      "Numero complejo 2: 1 +3i\n",
      "El resultado: -17 -11i\n"
     ]
    }
   ],
   "source": [
    "Mul_C([-5,4],[1,3])"
   ]
  },
  {
   "cell_type": "markdown",
   "metadata": {},
   "source": [
    "### 1.3 CONJUGADO DE UN NUMERO COMPLEJO"
   ]
  },
  {
   "cell_type": "code",
   "execution_count": 28,
   "metadata": {},
   "outputs": [],
   "source": [
    "def Conju_C(C1):\n",
    "    print(\"----------CONJUGADO DE UN NÚMERO-------\")\n",
    "    #Numero complejo\n",
    "    if C1[0]==0:\n",
    "        print(\"Numero complejo 1:\",str(C1[1])+\"i\")\n",
    "    elif C1[1]==0:\n",
    "        print(\"Numero complejo 1:\",C1[0])\n",
    "    elif C1[1]<0:\n",
    "        print(\"Numero complejo 1:\",C1[0],str(C1[1])+\"i\")\n",
    "    else:\n",
    "        print(\"Numero complejo 1:\",C1[0],\"+\"+str(C1[1])+\"i\")\n",
    "    \n",
    "    #Conjugado\n",
    "    C1[1] = -C1[1]\n",
    "    Resul = C1\n",
    "    if C1[0]==0:\n",
    "        print(\"El conjugado del numero complejo:\",str(C1[1])+\"i\")\n",
    "    elif C1[1]==0:\n",
    "        print(\"El conjugado del numero complejo:\",C1[0])\n",
    "    elif C1[1]<0:\n",
    "        print(\"El conjugado del numero complejo:\",C1[0],str(C1[1])+\"i\")\n",
    "    else:\n",
    "        print(\"El conjugado del numero complejo:\",C1[0],\"+\"+str(C1[1])+\"i\")\n",
    "        \n",
    "    #Si alguna otra función necesita multiplicar dos numeros se devuelve el resultado\n",
    "    return Resul"
   ]
  },
  {
   "cell_type": "code",
   "execution_count": 29,
   "metadata": {},
   "outputs": [
    {
     "name": "stdout",
     "output_type": "stream",
     "text": [
      "Numero complejo 1: -5 +4i\n",
      "El conjugado del numero complejo: -5 -4i\n"
     ]
    },
    {
     "data": {
      "text/plain": [
       "[-5, -4]"
      ]
     },
     "execution_count": 29,
     "metadata": {},
     "output_type": "execute_result"
    }
   ],
   "source": [
    "Conju_C([-5,4])"
   ]
  },
  {
   "cell_type": "markdown",
   "metadata": {},
   "source": [
    "### 1.4 DIVISIÓN NÚMEROS IMAGINARIOS"
   ]
  },
  {
   "cell_type": "code",
   "execution_count": 32,
   "metadata": {},
   "outputs": [],
   "source": [
    "def Div_C(C1, C2):\n",
    "    Conjugado = Conju_C(C2)\n",
    "    Numerador = Mul_C(C1, Conjugado)\n",
    "    Denominador = Mul_C(C2, Conjugado)\n",
    "    \n",
    "    Resul = [Numerador,Denominador]\n",
    "    \n",
    "    #División de numeros complejos\n",
    "    if Resul[0]==0:\n",
    "        print(\"El resultado es:\",str(Resul[1])+\"i\")\n",
    "    elif Resul[1]==0:\n",
    "        print(\"El resultado:\",Resul[0])\n",
    "    elif Resul[1]<0:\n",
    "        print(\"El resultado:\",Resul[0],str(Resul[1])+\"i\")\n",
    "    else:\n",
    "        print(\"El resultado:\",Resul[0],\"+\"+str(Resul[1])+\"i\")\n",
    "    "
   ]
  },
  {
   "cell_type": "code",
   "execution_count": 33,
   "metadata": {},
   "outputs": [
    {
     "name": "stdout",
     "output_type": "stream",
     "text": [
      "Numero complejo 1: 1 +3i\n",
      "El conjugado del numero complejo: 1 -3i\n",
      "Numero complejo 1: -5 +4i\n",
      "Numero complejo 2: 1 -3i\n",
      "El resultado: 7 +19i\n",
      "Numero complejo 1: 1 -3i\n",
      "Numero complejo 2: 1 -3i\n",
      "El resultado: -8 -6i\n"
     ]
    },
    {
     "ename": "TypeError",
     "evalue": "'<' not supported between instances of 'NoneType' and 'int'",
     "output_type": "error",
     "traceback": [
      "\u001b[1;31m---------------------------------------------------------------------------\u001b[0m",
      "\u001b[1;31mTypeError\u001b[0m                                 Traceback (most recent call last)",
      "\u001b[1;32m<ipython-input-33-0d5e82fe5f4c>\u001b[0m in \u001b[0;36m<module>\u001b[1;34m\u001b[0m\n\u001b[1;32m----> 1\u001b[1;33m \u001b[0mDiv_C\u001b[0m\u001b[1;33m(\u001b[0m\u001b[1;33m[\u001b[0m\u001b[1;33m-\u001b[0m\u001b[1;36m5\u001b[0m\u001b[1;33m,\u001b[0m\u001b[1;36m4\u001b[0m\u001b[1;33m]\u001b[0m\u001b[1;33m,\u001b[0m\u001b[1;33m[\u001b[0m\u001b[1;36m1\u001b[0m\u001b[1;33m,\u001b[0m\u001b[1;36m3\u001b[0m\u001b[1;33m]\u001b[0m\u001b[1;33m)\u001b[0m\u001b[1;33m\u001b[0m\u001b[1;33m\u001b[0m\u001b[0m\n\u001b[0m",
      "\u001b[1;32m<ipython-input-32-214c830e3231>\u001b[0m in \u001b[0;36mDiv_C\u001b[1;34m(C1, C2)\u001b[0m\n\u001b[0;32m     11\u001b[0m     \u001b[1;32melif\u001b[0m \u001b[0mResul\u001b[0m\u001b[1;33m[\u001b[0m\u001b[1;36m1\u001b[0m\u001b[1;33m]\u001b[0m\u001b[1;33m==\u001b[0m\u001b[1;36m0\u001b[0m\u001b[1;33m:\u001b[0m\u001b[1;33m\u001b[0m\u001b[1;33m\u001b[0m\u001b[0m\n\u001b[0;32m     12\u001b[0m         \u001b[0mprint\u001b[0m\u001b[1;33m(\u001b[0m\u001b[1;34m\"El resultado:\"\u001b[0m\u001b[1;33m,\u001b[0m\u001b[0mResul\u001b[0m\u001b[1;33m[\u001b[0m\u001b[1;36m0\u001b[0m\u001b[1;33m]\u001b[0m\u001b[1;33m)\u001b[0m\u001b[1;33m\u001b[0m\u001b[1;33m\u001b[0m\u001b[0m\n\u001b[1;32m---> 13\u001b[1;33m     \u001b[1;32melif\u001b[0m \u001b[0mResul\u001b[0m\u001b[1;33m[\u001b[0m\u001b[1;36m1\u001b[0m\u001b[1;33m]\u001b[0m\u001b[1;33m<\u001b[0m\u001b[1;36m0\u001b[0m\u001b[1;33m:\u001b[0m\u001b[1;33m\u001b[0m\u001b[1;33m\u001b[0m\u001b[0m\n\u001b[0m\u001b[0;32m     14\u001b[0m         \u001b[0mprint\u001b[0m\u001b[1;33m(\u001b[0m\u001b[1;34m\"El resultado:\"\u001b[0m\u001b[1;33m,\u001b[0m\u001b[0mResul\u001b[0m\u001b[1;33m[\u001b[0m\u001b[1;36m0\u001b[0m\u001b[1;33m]\u001b[0m\u001b[1;33m,\u001b[0m\u001b[0mstr\u001b[0m\u001b[1;33m(\u001b[0m\u001b[0mResul\u001b[0m\u001b[1;33m[\u001b[0m\u001b[1;36m1\u001b[0m\u001b[1;33m]\u001b[0m\u001b[1;33m)\u001b[0m\u001b[1;33m+\u001b[0m\u001b[1;34m\"i\"\u001b[0m\u001b[1;33m)\u001b[0m\u001b[1;33m\u001b[0m\u001b[1;33m\u001b[0m\u001b[0m\n\u001b[0;32m     15\u001b[0m     \u001b[1;32melse\u001b[0m\u001b[1;33m:\u001b[0m\u001b[1;33m\u001b[0m\u001b[1;33m\u001b[0m\u001b[0m\n",
      "\u001b[1;31mTypeError\u001b[0m: '<' not supported between instances of 'NoneType' and 'int'"
     ]
    }
   ],
   "source": [
    "Div_C([-5,4],[1,3])"
   ]
  },
  {
   "cell_type": "code",
   "execution_count": null,
   "metadata": {},
   "outputs": [],
   "source": []
  }
 ],
 "metadata": {
  "kernelspec": {
   "display_name": "Python 3",
   "language": "python",
   "name": "python3"
  },
  "language_info": {
   "codemirror_mode": {
    "name": "ipython",
    "version": 3
   },
   "file_extension": ".py",
   "mimetype": "text/x-python",
   "name": "python",
   "nbconvert_exporter": "python",
   "pygments_lexer": "ipython3",
   "version": "3.7.3"
  }
 },
 "nbformat": 4,
 "nbformat_minor": 2
}
