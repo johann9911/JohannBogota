{
 "cells": [
  {
   "cell_type": "markdown",
   "metadata": {},
   "source": [
    "# EJERCICIOS DEL LIBRO"
   ]
  },
  {
   "cell_type": "markdown",
   "metadata": {},
   "source": [
    "De acuerdo al libro Quantum Computing For Computer Scientists. Se realizaran los ejercicios de programación del capitulo 1 con el lenguaje python."
   ]
  },
  {
   "cell_type": "markdown",
   "metadata": {},
   "source": [
    "### 1.1 SUMA DE COMPLEJOS"
   ]
  },
  {
   "cell_type": "markdown",
   "metadata": {},
   "source": [
    "Programa que sume dos numeros complejos."
   ]
  },
  {
   "cell_type": "code",
   "execution_count": 61,
   "metadata": {},
   "outputs": [],
   "source": [
    "import math"
   ]
  },
  {
   "cell_type": "code",
   "execution_count": 62,
   "metadata": {},
   "outputs": [],
   "source": [
    "def suma_C(Cm1,Cm2):\n",
    "    Cm1 = Cm1[:]\n",
    "    Cm2 = Cm2[:]\n",
    "    sum_com = [(Cm1[0]+Cm2[0]),(Cm1[1]+Cm2[1])]\n",
    "    real = Cm1[0]+Cm2[0]\n",
    "    img = Cm1[1]+Cm2[1]\n",
    "    print(\"----------SUMA DE DOS NÚMEROS-------\")\n",
    "    #Numero 1\n",
    "    if Cm1[0]==0:\n",
    "        print(\"Numero complejo 1:\",str(Cm1[1])+\"i\")\n",
    "    elif Cm1[1]==0:\n",
    "        print(\"Numero complejo 1:\",Cm1[0])\n",
    "    elif Cm1[1]<0:\n",
    "        print(\"Numero complejo 1:\",Cm1[0],str(Cm1[1])+\"i\")\n",
    "    else:\n",
    "        print(\"Numero complejo 1:\",Cm1[0],\"+\"+str(Cm1[1])+\"i\")\n",
    "\n",
    "    #Numero 2\n",
    "    if Cm2[0]==0:\n",
    "        print(\"Numero complejo 2:\",str(Cm2[1])+\"i\")\n",
    "    elif Cm2[1]==0:\n",
    "        print(\"Numero complejo 2:\",Cm2[0])\n",
    "    elif Cm2[1]<0:\n",
    "        print(\"Numero complejo 2:\",Cm2[0],str(Cm2[1])+\"i\")\n",
    "    else:\n",
    "        print(\"Numero complejo 2:\",Cm2[0],\"+\"+str(Cm2[1])+\"i\")\n",
    "    \n",
    "        \n",
    "    #suma de numeros complejos\n",
    "    if sum_com[0]==0:\n",
    "        print(\"El resultado es:\",str(sum_com[1])+\"i\")\n",
    "    elif sum_com[1]==0:\n",
    "        print(\"El resultado es:\",sum_com[0])\n",
    "    elif sum_com[1]<0:\n",
    "        print(\"El resultado es:\",sum_com[0],str(sum_com[1])+\"i\")\n",
    "    else:\n",
    "        print(\"El resultado es:\",sum_com[0],\"+\"+str(sum_com[1])+\"i\")\n",
    "    \n",
    "     #Si alguna otra función necesita multiplicar dos numeros se devuelve el resultado\n",
    "    return sum_com"
   ]
  },
  {
   "cell_type": "code",
   "execution_count": 63,
   "metadata": {},
   "outputs": [
    {
     "name": "stdout",
     "output_type": "stream",
     "text": [
      "----------SUMA DE DOS NÚMEROS-------\n",
      "Numero complejo 1: 3 +5i\n",
      "Numero complejo 2: 2i\n",
      "El resultado es: 3 +7i\n"
     ]
    },
    {
     "data": {
      "text/plain": [
       "[3, 7]"
      ]
     },
     "execution_count": 63,
     "metadata": {},
     "output_type": "execute_result"
    }
   ],
   "source": [
    "suma_C([3,5],[0,2])"
   ]
  },
  {
   "cell_type": "markdown",
   "metadata": {},
   "source": [
    "### 1.2 Multiplicación"
   ]
  },
  {
   "cell_type": "markdown",
   "metadata": {},
   "source": [
    "Programa que multiplique dos numeros complejos"
   ]
  },
  {
   "cell_type": "code",
   "execution_count": 64,
   "metadata": {},
   "outputs": [],
   "source": [
    "def Mul_C(C1,C2):\n",
    "    C2 = C2[:]\n",
    "    C2 = C2[:]\n",
    "    Real = (C1[0]*C2[0])-(C1[1]*C2[1])\n",
    "    imag = (C1[0]*C2[1])+(C2[0]*C1[1])\n",
    "    Resul = [Real,imag]\n",
    "    print(\"----------MULTIPLICACIÓN DE DOS NÚMEROS-------\")\n",
    "    #Numero 1\n",
    "    if C1[0]==0:\n",
    "        print(\"Numero complejo 1:\",str(C1[1])+\"i\")\n",
    "    elif C1[1]==0:\n",
    "        print(\"Numero complejo 1:\",C1[0])\n",
    "    elif C1[1]<0:\n",
    "        print(\"Numero complejo 1:\",C1[0],str(C1[1])+\"i\")\n",
    "    else:\n",
    "        print(\"Numero complejo 1:\",C1[0],\"+\"+str(C1[1])+\"i\")\n",
    "\n",
    "    #Numero 2\n",
    "    if C2[0]==0:\n",
    "        print(\"Numero complejo 2:\",str(C2[1])+\"i\")\n",
    "    elif C2[1]==0:\n",
    "        print(\"Numero complejo 2:\",C2[0])\n",
    "    elif C2[1]<0:\n",
    "        print(\"Numero complejo 2:\",C2[0],str(C2[1])+\"i\")\n",
    "    else:\n",
    "        print(\"Numero complejo 2:\",C2[0],\"+\"+str(C2[1])+\"i\")\n",
    "    \n",
    "        \n",
    "    #Multiplicación de numeros complejos\n",
    "    if Resul[0]==0:\n",
    "        print(\"El resultado es:\",str(Resul[1])+\"i\")\n",
    "    elif Resul[1]==0:\n",
    "        print(\"El resultado:\",Resul[0])\n",
    "    elif Resul[1]<0:\n",
    "        print(\"El resultado:\",Resul[0],str(Resul[1])+\"i\")\n",
    "    else:\n",
    "        print(\"El resultado:\",Resul[0],\"+\"+str(Resul[1])+\"i\")\n",
    "    \n",
    "    #Si alguna otra función necesita multiplicar dos numeros se devuelve el resultado\n",
    "    return Resul"
   ]
  },
  {
   "cell_type": "code",
   "execution_count": 65,
   "metadata": {},
   "outputs": [
    {
     "name": "stdout",
     "output_type": "stream",
     "text": [
      "----------MULTIPLICACIÓN DE DOS NÚMEROS-------\n",
      "Numero complejo 1: -5 +4i\n",
      "Numero complejo 2: 1 +3i\n",
      "El resultado: -17 -11i\n"
     ]
    },
    {
     "data": {
      "text/plain": [
       "[-17, -11]"
      ]
     },
     "execution_count": 65,
     "metadata": {},
     "output_type": "execute_result"
    }
   ],
   "source": [
    "Mul_C([-5,4],[1,3])"
   ]
  },
  {
   "cell_type": "markdown",
   "metadata": {},
   "source": [
    "### 1.3 CONJUGADO DE UN NUMERO COMPLEJO"
   ]
  },
  {
   "cell_type": "markdown",
   "metadata": {},
   "source": [
    "Programa que conjugue un numero complejo"
   ]
  },
  {
   "cell_type": "code",
   "execution_count": 66,
   "metadata": {},
   "outputs": [],
   "source": [
    "def Conju_C(C1):\n",
    "    C1 = C1[:]\n",
    "    print(\"----------CONJUGADO DE UN NÚMERO-------\")\n",
    "    #Numero complejo\n",
    "    if C1[0]==0:\n",
    "        print(\"Numero complejo 1:\",str(C1[1])+\"i\")\n",
    "    elif C1[1]==0:\n",
    "        print(\"Numero complejo 1:\",C1[0])\n",
    "    elif C1[1]<0:\n",
    "        print(\"Numero complejo 1:\",C1[0],str(C1[1])+\"i\")\n",
    "    else:\n",
    "        print(\"Numero complejo 1:\",C1[0],\"+\"+str(C1[1])+\"i\")\n",
    "    \n",
    "    #Conjugado\n",
    "    C1[1] = -(C1[1])\n",
    "    Resul = C1\n",
    "    if C1[0]==0:\n",
    "        print(\"El conjugado del numero complejo:\",str(C1[1])+\"i\")\n",
    "    elif C1[1]==0:\n",
    "        print(\"El conjugado del numero complejo:\",C1[0])\n",
    "    elif C1[1]<0:\n",
    "        print(\"El conjugado del numero complejo:\",C1[0],str(C1[1])+\"i\")\n",
    "    else:\n",
    "        print(\"El conjugado del numero complejo:\",C1[0],\"+\"+str(C1[1])+\"i\")\n",
    "        \n",
    "    #Si alguna otra función necesita multiplicar dos numeros se devuelve el resultado\n",
    "    return Resul"
   ]
  },
  {
   "cell_type": "code",
   "execution_count": 67,
   "metadata": {},
   "outputs": [
    {
     "name": "stdout",
     "output_type": "stream",
     "text": [
      "----------CONJUGADO DE UN NÚMERO-------\n",
      "Numero complejo 1: -5 +4i\n",
      "El conjugado del numero complejo: -5 -4i\n"
     ]
    },
    {
     "data": {
      "text/plain": [
       "[-5, -4]"
      ]
     },
     "execution_count": 67,
     "metadata": {},
     "output_type": "execute_result"
    }
   ],
   "source": [
    "Conju_C([-5,4])"
   ]
  },
  {
   "cell_type": "markdown",
   "metadata": {},
   "source": [
    "### 1.4 MODULO NUMERO COMPLEJO"
   ]
  },
  {
   "cell_type": "markdown",
   "metadata": {},
   "source": [
    "Programa que muestre el modulo de un numero comlejo"
   ]
  },
  {
   "cell_type": "code",
   "execution_count": 68,
   "metadata": {},
   "outputs": [],
   "source": [
    "def Modu_C(C1):\n",
    "    C1 = C1[:]\n",
    "    Resul = math.sqrt(C1[0]**2 + C1[1]**2)\n",
    "    print(\"----------MODULO DE UN NÚMERO-------\")\n",
    "    #Numero complejo\n",
    "    if C1[0]==0:\n",
    "        print(\"Numero complejo 1:\",str(C1[1])+\"i\")\n",
    "    elif C1[1]==0:\n",
    "        print(\"Numero complejo 1:\",C1[0])\n",
    "    elif C1[1]<0:\n",
    "        print(\"Numero complejo 1:\",C1[0],str(C1[1])+\"i\")\n",
    "    else:\n",
    "        print(\"Numero complejo 1:\",C1[0],\"+\"+str(C1[1])+\"i\")\n",
    "    \n",
    "    print(\"El resultado es: \", Resul)\n",
    "    \n",
    "    return Resul"
   ]
  },
  {
   "cell_type": "code",
   "execution_count": 69,
   "metadata": {},
   "outputs": [
    {
     "name": "stdout",
     "output_type": "stream",
     "text": [
      "----------MODULO DE UN NÚMERO-------\n",
      "Numero complejo 1: -5 +4i\n",
      "El resultado es:  6.4031242374328485\n"
     ]
    },
    {
     "data": {
      "text/plain": [
       "6.4031242374328485"
      ]
     },
     "execution_count": 69,
     "metadata": {},
     "output_type": "execute_result"
    }
   ],
   "source": [
    "Modu_C([-5, 4])"
   ]
  },
  {
   "cell_type": "markdown",
   "metadata": {},
   "source": [
    "### 1.5 DIVISIÓN NÚMEROS IMAGINARIOS"
   ]
  },
  {
   "cell_type": "markdown",
   "metadata": {},
   "source": [
    "Programa que Divida dos numeros complejos"
   ]
  },
  {
   "cell_type": "code",
   "execution_count": 70,
   "metadata": {},
   "outputs": [],
   "source": [
    "def Div_C(C1, C2):\n",
    "    \n",
    "    Conjugado = Conju_C(C2)\n",
    "    Numerador = Mul_C(C1, Conjugado)\n",
    "    Denominador = Mul_C(C2, Conjugado)\n",
    "    Resul = [Numerador,Denominador]\n",
    "    print(\"----------DIVISION DE DOS NÚMEROS-------\")\n",
    "    #Numero 1\n",
    "    if C1[0]==0:\n",
    "        print(\"Numero complejo 1:\",str(C1[1])+\"i\")\n",
    "    elif C1[1]==0:\n",
    "        print(\"Numero complejo 1:\",C1[0])\n",
    "    elif C1[1]<0:\n",
    "        print(\"Numero complejo 1:\",C1[0],str(C1[1])+\"i\")\n",
    "    else:\n",
    "        print(\"Numero complejo 1:\",C1[0],\"+\"+str(C1[1])+\"i\")\n",
    "\n",
    "    #Numero 2\n",
    "    if C2[0]==0:\n",
    "        print(\"Numero complejo 2:\",str(C2[1])+\"i\")\n",
    "    elif C2[1]==0:\n",
    "        print(\"Numero complejo 2:\",C2[0])\n",
    "    elif C2[1]<0:\n",
    "        print(\"Numero complejo 2:\",C2[0],str(C2[1])+\"i\")\n",
    "    else:\n",
    "        print(\"Numero complejo 2:\",C2[0],\"+\"+str(C2[1])+\"i\")\n",
    "    #División de numeros complejos\n",
    "    print(\"El resultado:\",Resul[0][0],\"+\"+str(Resul[0][1])+\"i    /   \",Resul[1][0],\"+\"+str(Resul[1][1])+\"i\")\n",
    "    "
   ]
  },
  {
   "cell_type": "code",
   "execution_count": 71,
   "metadata": {},
   "outputs": [
    {
     "name": "stdout",
     "output_type": "stream",
     "text": [
      "----------CONJUGADO DE UN NÚMERO-------\n",
      "Numero complejo 1: 1 +3i\n",
      "El conjugado del numero complejo: 1 -3i\n",
      "----------MULTIPLICACIÓN DE DOS NÚMEROS-------\n",
      "Numero complejo 1: -5 +4i\n",
      "Numero complejo 2: 1 -3i\n",
      "El resultado: 7 +19i\n",
      "----------MULTIPLICACIÓN DE DOS NÚMEROS-------\n",
      "Numero complejo 1: 1 +3i\n",
      "Numero complejo 2: 1 -3i\n",
      "El resultado: 10\n",
      "----------DIVISION DE DOS NÚMEROS-------\n",
      "Numero complejo 1: -5 +4i\n",
      "Numero complejo 2: 1 +3i\n",
      "El resultado: 7 +19i    /    10 +0i\n"
     ]
    }
   ],
   "source": [
    "Div_C([-5,4],[1,3])"
   ]
  },
  {
   "cell_type": "markdown",
   "metadata": {},
   "source": [
    "### 1.6 FORMA RECTAGULAR A POLAR"
   ]
  },
  {
   "cell_type": "markdown",
   "metadata": {},
   "source": [
    "Programa que muestre la forma polar de un numero rectangular dado"
   ]
  },
  {
   "cell_type": "code",
   "execution_count": 72,
   "metadata": {},
   "outputs": [],
   "source": [
    "def Rec_Polar(C1):\n",
    "    p = Modu_C(C1)\n",
    "    Teta = math.atan((C1[1]/C1[0]))\n",
    "    Resul = [p, Teta]\n",
    "    print(\"----------FORMA RECTANGULAR A POLAR-------\")\n",
    "    #Numero complejo\n",
    "    if C1[0]==0:\n",
    "        print(\"Numero complejo 1:\",str(C1[1])+\"i\")\n",
    "    elif C1[1]==0:\n",
    "        print(\"Numero complejo 1:\",C1[0])\n",
    "    elif C1[1]<0:\n",
    "        print(\"Numero complejo 1:\",C1[0],str(C1[1])+\"i\")\n",
    "    else:\n",
    "        print(\"Numero complejo 1:\",C1[0],\"+\"+str(C1[1])+\"i\")\n",
    "        \n",
    "    print(\"El resultado en forma polar es: (\",Resul[0],\",\",Resul[1],\")\" )"
   ]
  },
  {
   "cell_type": "code",
   "execution_count": 73,
   "metadata": {},
   "outputs": [
    {
     "name": "stdout",
     "output_type": "stream",
     "text": [
      "----------MODULO DE UN NÚMERO-------\n",
      "Numero complejo 1: 5 +2i\n",
      "El resultado es:  5.385164807134504\n",
      "----------FORMA RECTANGULAR A POLAR-------\n",
      "Numero complejo 1: 5 +2i\n",
      "El resultado en forma polar es: ( 5.385164807134504 , 0.3805063771123649 )\n"
     ]
    }
   ],
   "source": [
    "Rec_Polar([5, 2])"
   ]
  },
  {
   "cell_type": "markdown",
   "metadata": {},
   "source": [
    "### 1.7 FORMA POLAR A RECTANGULAR"
   ]
  },
  {
   "cell_type": "markdown",
   "metadata": {},
   "source": [
    "Programa que muestre la forma rectangular de un numero con forma polar dado"
   ]
  },
  {
   "cell_type": "code",
   "execution_count": 74,
   "metadata": {},
   "outputs": [],
   "source": [
    "def Polar_Rec(C1):\n",
    "    print(\"----------FORMA RECTANGULAR A POLAR-------\")\n",
    "    a = C1[0] * math.cos(C1[1])\n",
    "    b = C1[0] * math.sin(C1[1])\n",
    "    print(\"p = \", C1[0])\n",
    "    print(\"Teta = \",C1[1])\n",
    "    print(\"El resultado en forma rectangular es: (\",round(a),\",\",round(b),\")\" )"
   ]
  },
  {
   "cell_type": "code",
   "execution_count": 75,
   "metadata": {},
   "outputs": [
    {
     "name": "stdout",
     "output_type": "stream",
     "text": [
      "----------FORMA RECTANGULAR A POLAR-------\n",
      "p =  5.39\n",
      "Teta =  0.38\n",
      "El resultado en forma rectangular es: ( 5 , 2 )\n"
     ]
    }
   ],
   "source": [
    "Polar_Rec([5.39, 0.38])"
   ]
  }
 ],
 "metadata": {
  "kernelspec": {
   "display_name": "Python 3",
   "language": "python",
   "name": "python3"
  },
  "language_info": {
   "codemirror_mode": {
    "name": "ipython",
    "version": 3
   },
   "file_extension": ".py",
   "mimetype": "text/x-python",
   "name": "python",
   "nbconvert_exporter": "python",
   "pygments_lexer": "ipython3",
   "version": "3.7.3"
  }
 },
 "nbformat": 4,
 "nbformat_minor": 4
}
